{
 "cells": [
  {
   "cell_type": "markdown",
   "id": "a5ae115b-ad94-48a5-a84d-09140b605428",
   "metadata": {},
   "source": [
    "# Awkward Arrays in AnnData\n",
    "\n",
    "**Author**: [Gregor Sturm](https://github.com/grst)\n",
    "\n",
    "[Awkward Array](https://awkward-array.org/doc/main/) is a library for working with **nested, variable-sized data** using **NumPy-like idioms**. \n",
    "It is considerably faster than working with lists-of-lists or lists-of-dicts in Python. \n",
    "\n",
    "Here are two examples what an awkward array could look like: \n",
    "\n",
    " 1. ragged array\n",
    " \n",
    " 2. list of records\n",
    "\n",
    "Since v0.9, awkward arrays are supported in AnnData in the `.layers`, `.obsm`, `.varm` and `.uns` slots. "
   ]
  },
  {
   "cell_type": "raw",
   "id": "0238f94a-7b50-47cf-af0f-6cb462d5c47f",
   "metadata": {
    "raw_mimetype": "text/restructuredtext",
    "tags": []
   },
   "source": [
    ".. warning:: \n",
    "\n",
    "    Support for awkward arrays in AnnData is **experimental**. Behavior, in particular of :func:`~anndata.concat`, may change in the future. \n",
    "    Please report any issues using the `issue tracker <https://github.com/scverse/anndata>`_"
   ]
  },
  {
   "cell_type": "code",
   "execution_count": null,
   "id": "85701e45-a60d-4112-888e-c1652192e14c",
   "metadata": {},
   "outputs": [],
   "source": []
  }
 ],
 "metadata": {
  "kernelspec": {
   "display_name": "Python [conda env:scirpy_dev]",
   "language": "python",
   "name": "conda-env-scirpy_dev-py"
  },
  "language_info": {
   "codemirror_mode": {
    "name": "ipython",
    "version": 3
   },
   "file_extension": ".py",
   "mimetype": "text/x-python",
   "name": "python",
   "nbconvert_exporter": "python",
   "pygments_lexer": "ipython3",
   "version": "3.9.9"
  }
 },
 "nbformat": 4,
 "nbformat_minor": 5
}
