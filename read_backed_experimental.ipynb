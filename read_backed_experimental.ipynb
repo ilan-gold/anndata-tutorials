{
 "cells": [
  {
   "cell_type": "code",
   "execution_count": 1,
   "id": "0ed7f2d0",
   "metadata": {},
   "outputs": [],
   "source": [
    "from anndata.experimental.read_backed import read_backed\n",
    "import fsspec, zarr\n",
    "import scanpy as sc\n",
    "import os\n",
    "%load_ext autoreload\n",
    "%autoreload 2"
   ]
  },
  {
   "cell_type": "markdown",
   "id": "5cd85d25",
   "metadata": {},
   "source": [
    "# First we set up a custom store for tracking how many requests we are making.  This is just a light wrapper around LRUStoreCache that prints when a key has been accessed."
   ]
  },
  {
   "cell_type": "code",
   "execution_count": 2,
   "id": "5b65e188",
   "metadata": {},
   "outputs": [],
   "source": [
    "class AccessTrackingStore(zarr.LRUStoreCache):\n",
    "    def __init__(self, *args, **kwargs):\n",
    "        super().__init__(*args, **kwargs)\n",
    "\n",
    "    def __getitem__(self, key):\n",
    "        if key not in self._values_cache:\n",
    "            print(key)\n",
    "        return super().__getitem__(key)"
   ]
  },
  {
   "cell_type": "code",
   "execution_count": 3,
   "id": "04442ebf",
   "metadata": {},
   "outputs": [],
   "source": [
    "# mapper = fsspec.get_mapper('https://vitessce-demo-data.storage.googleapis.com/cxg_examples/BALF_VIB-UGent_processed_cleaned_080.zarr/BALF_VIB-UGent_processed_cleaned.zarr')\n",
    "\n",
    "mapper = fsspec.get_mapper('http://127.0.0.1:8080/BALF_VIB-UGent_processed_cleaned.zarr')\n",
    "store = AccessTrackingStore(mapper, max_size=2**28)"
   ]
  },
  {
   "cell_type": "code",
   "execution_count": 4,
   "id": "1b6aa6b1",
   "metadata": {},
   "outputs": [
    {
     "name": "stdout",
     "output_type": "stream",
     "text": [
      ".zmetadata\n"
     ]
    }
   ],
   "source": [
    "adata = read_backed(store)"
   ]
  },
  {
   "cell_type": "code",
   "execution_count": 5,
   "id": "97e2557d",
   "metadata": {},
   "outputs": [
    {
     "data": {
      "text/plain": [
       "AnnDataBacked object with n_obs × n_vars = 275056 × 24740\n",
       "    obs: 'orig.ident', 'Age', 'Sex', 'Race', 'Ethnicity', 'BMI', 'Pre-existing heart disease', 'Pre-existing lung disease', 'Pre-existing kidney disease', 'Pre-existing diabetes', 'Pre-existing hypertension', 'Pre-existing immunocompromised condition', 'Smoking', 'SARS-CoV-2 PCR', 'SARS-CoV-2 Ab', 'Symptomatic', 'Admitted to hospital', 'Highest level of respiratory support', 'Vasoactive agents required during hospitalization', '28-day death', '28-day outcome', 'Disease classification', 'Organ System', 'Source', 'Days since hospital admission', 'SOFA', 'Technology', 'Method', 'CITE-Seq panel', 'Reference', 'Institute', 'Creation date', 'Annotation', '_index'\n",
       "    var: 'feature_type', 'gene_id', '_index'\n",
       "    obsm: 'X_umap'\n",
       "    layers: 'X_csc'"
      ]
     },
     "execution_count": 5,
     "metadata": {},
     "output_type": "execute_result"
    }
   ],
   "source": [
    "adata"
   ]
  },
  {
   "cell_type": "markdown",
   "id": "012c91cc",
   "metadata": {},
   "source": [
    "# Great! We can see that with only one request, we can now view all the columns available in this AnnData object.  This is a great start towards understanding what our data is.\n",
    "\n",
    "# Immediately, we see that this is some sort of COVID-19 dataset.  Maybe we're only interested in those who were COVID-19 positive and died from it.  Let's try to get that subset and observe what happen"
   ]
  },
  {
   "cell_type": "code",
   "execution_count": 6,
   "id": "ef72434e",
   "metadata": {},
   "outputs": [
    {
     "data": {
      "text/html": [
       "<table>\n",
       "    <tr>\n",
       "        <td>\n",
       "            <table style=\"border-collapse: collapse;\">\n",
       "                <thead>\n",
       "                    <tr>\n",
       "                        <td> </td>\n",
       "                        <th> Array </th>\n",
       "                        <th> Chunk </th>\n",
       "                    </tr>\n",
       "                </thead>\n",
       "                <tbody>\n",
       "                    \n",
       "                    <tr>\n",
       "                        <th> Bytes </th>\n",
       "                        <td> 2.10 MiB </td>\n",
       "                        <td> 268.61 kiB </td>\n",
       "                    </tr>\n",
       "                    \n",
       "                    <tr>\n",
       "                        <th> Shape </th>\n",
       "                        <td> (275056,) </td>\n",
       "                        <td> (34382,) </td>\n",
       "                    </tr>\n",
       "                    <tr>\n",
       "                        <th> Dask graph </th>\n",
       "                        <td colspan=\"2\"> 8 chunks in 2 graph layers </td>\n",
       "                    </tr>\n",
       "                    <tr>\n",
       "                        <th> Data type </th>\n",
       "                        <td colspan=\"2\"> float64 numpy.ndarray </td>\n",
       "                    </tr>\n",
       "                </tbody>\n",
       "            </table>\n",
       "        </td>\n",
       "        <td>\n",
       "        <svg width=\"170\" height=\"75\" style=\"stroke:rgb(0,0,0);stroke-width:1\" >\n",
       "\n",
       "  <!-- Horizontal lines -->\n",
       "  <line x1=\"0\" y1=\"0\" x2=\"120\" y2=\"0\" style=\"stroke-width:2\" />\n",
       "  <line x1=\"0\" y1=\"25\" x2=\"120\" y2=\"25\" style=\"stroke-width:2\" />\n",
       "\n",
       "  <!-- Vertical lines -->\n",
       "  <line x1=\"0\" y1=\"0\" x2=\"0\" y2=\"25\" style=\"stroke-width:2\" />\n",
       "  <line x1=\"15\" y1=\"0\" x2=\"15\" y2=\"25\" />\n",
       "  <line x1=\"30\" y1=\"0\" x2=\"30\" y2=\"25\" />\n",
       "  <line x1=\"45\" y1=\"0\" x2=\"45\" y2=\"25\" />\n",
       "  <line x1=\"60\" y1=\"0\" x2=\"60\" y2=\"25\" />\n",
       "  <line x1=\"75\" y1=\"0\" x2=\"75\" y2=\"25\" />\n",
       "  <line x1=\"90\" y1=\"0\" x2=\"90\" y2=\"25\" />\n",
       "  <line x1=\"105\" y1=\"0\" x2=\"105\" y2=\"25\" />\n",
       "  <line x1=\"120\" y1=\"0\" x2=\"120\" y2=\"25\" style=\"stroke-width:2\" />\n",
       "\n",
       "  <!-- Colored Rectangle -->\n",
       "  <polygon points=\"0.0,0.0 120.0,0.0 120.0,25.412616514582485 0.0,25.412616514582485\" style=\"fill:#ECB172A0;stroke-width:0\"/>\n",
       "\n",
       "  <!-- Text -->\n",
       "  <text x=\"60.000000\" y=\"45.412617\" font-size=\"1.0rem\" font-weight=\"100\" text-anchor=\"middle\" >275056</text>\n",
       "  <text x=\"140.000000\" y=\"12.706308\" font-size=\"1.0rem\" font-weight=\"100\" text-anchor=\"middle\" transform=\"rotate(0,140.000000,12.706308)\">1</text>\n",
       "</svg>\n",
       "        </td>\n",
       "    </tr>\n",
       "</table>"
      ],
      "text/plain": [
       "dask.array<from-zarr, shape=(275056,), dtype=float64, chunksize=(34382,), chunktype=numpy.ndarray>"
      ]
     },
     "execution_count": 6,
     "metadata": {},
     "output_type": "execute_result"
    }
   ],
   "source": [
    "adata.obs['SARS-CoV-2 PCR']"
   ]
  },
  {
   "cell_type": "code",
   "execution_count": 7,
   "id": "f73142be",
   "metadata": {},
   "outputs": [
    {
     "data": {
      "text/html": [
       "<table>\n",
       "    <tr>\n",
       "        <td>\n",
       "            <table style=\"border-collapse: collapse;\">\n",
       "                <thead>\n",
       "                    <tr>\n",
       "                        <td> </td>\n",
       "                        <th> Array </th>\n",
       "                        <th> Chunk </th>\n",
       "                    </tr>\n",
       "                </thead>\n",
       "                <tbody>\n",
       "                    \n",
       "                    <tr>\n",
       "                        <th> Bytes </th>\n",
       "                        <td> 2.10 MiB </td>\n",
       "                        <td> 268.61 kiB </td>\n",
       "                    </tr>\n",
       "                    \n",
       "                    <tr>\n",
       "                        <th> Shape </th>\n",
       "                        <td> (275056,) </td>\n",
       "                        <td> (34382,) </td>\n",
       "                    </tr>\n",
       "                    <tr>\n",
       "                        <th> Dask graph </th>\n",
       "                        <td colspan=\"2\"> 8 chunks in 2 graph layers </td>\n",
       "                    </tr>\n",
       "                    <tr>\n",
       "                        <th> Data type </th>\n",
       "                        <td colspan=\"2\"> float64 numpy.ndarray </td>\n",
       "                    </tr>\n",
       "                </tbody>\n",
       "            </table>\n",
       "        </td>\n",
       "        <td>\n",
       "        <svg width=\"170\" height=\"75\" style=\"stroke:rgb(0,0,0);stroke-width:1\" >\n",
       "\n",
       "  <!-- Horizontal lines -->\n",
       "  <line x1=\"0\" y1=\"0\" x2=\"120\" y2=\"0\" style=\"stroke-width:2\" />\n",
       "  <line x1=\"0\" y1=\"25\" x2=\"120\" y2=\"25\" style=\"stroke-width:2\" />\n",
       "\n",
       "  <!-- Vertical lines -->\n",
       "  <line x1=\"0\" y1=\"0\" x2=\"0\" y2=\"25\" style=\"stroke-width:2\" />\n",
       "  <line x1=\"15\" y1=\"0\" x2=\"15\" y2=\"25\" />\n",
       "  <line x1=\"30\" y1=\"0\" x2=\"30\" y2=\"25\" />\n",
       "  <line x1=\"45\" y1=\"0\" x2=\"45\" y2=\"25\" />\n",
       "  <line x1=\"60\" y1=\"0\" x2=\"60\" y2=\"25\" />\n",
       "  <line x1=\"75\" y1=\"0\" x2=\"75\" y2=\"25\" />\n",
       "  <line x1=\"90\" y1=\"0\" x2=\"90\" y2=\"25\" />\n",
       "  <line x1=\"105\" y1=\"0\" x2=\"105\" y2=\"25\" />\n",
       "  <line x1=\"120\" y1=\"0\" x2=\"120\" y2=\"25\" style=\"stroke-width:2\" />\n",
       "\n",
       "  <!-- Colored Rectangle -->\n",
       "  <polygon points=\"0.0,0.0 120.0,0.0 120.0,25.412616514582485 0.0,25.412616514582485\" style=\"fill:#ECB172A0;stroke-width:0\"/>\n",
       "\n",
       "  <!-- Text -->\n",
       "  <text x=\"60.000000\" y=\"45.412617\" font-size=\"1.0rem\" font-weight=\"100\" text-anchor=\"middle\" >275056</text>\n",
       "  <text x=\"140.000000\" y=\"12.706308\" font-size=\"1.0rem\" font-weight=\"100\" text-anchor=\"middle\" transform=\"rotate(0,140.000000,12.706308)\">1</text>\n",
       "</svg>\n",
       "        </td>\n",
       "    </tr>\n",
       "</table>"
      ],
      "text/plain": [
       "dask.array<from-zarr, shape=(275056,), dtype=float64, chunksize=(34382,), chunktype=numpy.ndarray>"
      ]
     },
     "execution_count": 7,
     "metadata": {},
     "output_type": "execute_result"
    }
   ],
   "source": [
    "adata.obs['28-day death']"
   ]
  },
  {
   "cell_type": "markdown",
   "id": "8eb1d69e",
   "metadata": {},
   "source": [
    "## These are both dask arrays.  Thus we'll need to bring them into memory to create our subset, but this is no problem.  Usually we would hope these are stored as boolean, but floats will work just the same."
   ]
  },
  {
   "cell_type": "code",
   "execution_count": 8,
   "id": "f38eab4b",
   "metadata": {},
   "outputs": [
    {
     "name": "stdout",
     "output_type": "stream",
     "text": [
      "obs/SARS-CoV-2 PCR/0\n",
      "obs/SARS-CoV-2 PCR/1\n",
      "obs/SARS-CoV-2 PCR/2\n",
      "obs/SARS-CoV-2 PCR/3\n",
      "obs/SARS-CoV-2 PCR/4\n",
      "obs/SARS-CoV-2 PCR/5obs/SARS-CoV-2 PCR/6\n",
      "obs/SARS-CoV-2 PCR/7\n",
      "\n",
      "obs/28-day death/0\n",
      "obs/28-day death/1\n",
      "obs/28-day death/2\n",
      "obs/28-day death/3\n",
      "obs/28-day death/4\n",
      "obs/28-day death/5\n",
      "obs/28-day death/6\n",
      "obs/28-day death/7\n",
      "obs/_index/0\n",
      "obs/_index/1\n",
      "obs/_index/2\n",
      "obs/_index/3\n",
      "obs/_index/4\n",
      "obs/_index/5\n",
      "obs/_index/6\n",
      "obs/_index/7\n",
      "var/_index/0\n"
     ]
    },
    {
     "data": {
      "text/plain": [
       "AnnDataBacked object with n_obs × n_vars = 57250 × 24740\n",
       "    obs: 'orig.ident', 'Age', 'Sex', 'Race', 'Ethnicity', 'BMI', 'Pre-existing heart disease', 'Pre-existing lung disease', 'Pre-existing kidney disease', 'Pre-existing diabetes', 'Pre-existing hypertension', 'Pre-existing immunocompromised condition', 'Smoking', 'SARS-CoV-2 PCR', 'SARS-CoV-2 Ab', 'Symptomatic', 'Admitted to hospital', 'Highest level of respiratory support', 'Vasoactive agents required during hospitalization', '28-day death', '28-day outcome', 'Disease classification', 'Organ System', 'Source', 'Days since hospital admission', 'SOFA', 'Technology', 'Method', 'CITE-Seq panel', 'Reference', 'Institute', 'Creation date', 'Annotation', '_index'\n",
       "    var: 'feature_type', 'gene_id', '_index'\n",
       "    obsm: 'X_umap'\n",
       "    layers: 'X_csc'"
      ]
     },
     "execution_count": 8,
     "metadata": {},
     "output_type": "execute_result"
    }
   ],
   "source": [
    "subset = adata[adata.obs['SARS-CoV-2 PCR'].compute().astype('bool') & adata.obs['28-day death'].compute().astype('bool'), :]\n",
    "subset"
   ]
  },
  {
   "cell_type": "markdown",
   "id": "f885a82b",
   "metadata": {},
   "source": [
    "## That was pretty fast!  Now we're getting somewhere.  Let's look at the cell types present in our dataset.  Note that the class of the obs column is special - a custom class we use that should feel familiar nonetheless.  We immediately are able to see the available categories here, while only paying for the access to get the categories.  No \"real data\" has been read in yet.  COVID 19 is known to act (idk?) on CD4 and CD8+ cells, so let's pull those in"
   ]
  },
  {
   "cell_type": "code",
   "execution_count": 9,
   "id": "d99ccc91",
   "metadata": {},
   "outputs": [
    {
     "name": "stdout",
     "output_type": "stream",
     "text": [
      "obs/Annotation/categories/0\n"
     ]
    },
    {
     "data": {
      "text/plain": [
       "LazyCategoricalArray(codes=..., categories=['B cell' 'Baso Mast' 'CD4+ T-cell' 'CD8+ T-cell' 'Doublet'\n",
       " 'Epithelial cell' 'Macrophage' 'Macrophage:Alveolar' 'NK' 'Neutrophil'\n",
       " 'Plasma cell' 'cDC' 'gd T-cell' 'pDC'], ordered=False)"
      ]
     },
     "execution_count": 9,
     "metadata": {},
     "output_type": "execute_result"
    }
   ],
   "source": [
    "subset.obs['Annotation']"
   ]
  },
  {
   "cell_type": "code",
   "execution_count": 10,
   "id": "132a4e95",
   "metadata": {},
   "outputs": [
    {
     "name": "stdout",
     "output_type": "stream",
     "text": [
      "obs/Annotation/codes/0\n",
      "obs/Annotation/codes/1\n"
     ]
    },
    {
     "data": {
      "text/plain": [
       "AnnDataBacked object with n_obs × n_vars = 16768 × 24740\n",
       "    obs: 'orig.ident', 'Age', 'Sex', 'Race', 'Ethnicity', 'BMI', 'Pre-existing heart disease', 'Pre-existing lung disease', 'Pre-existing kidney disease', 'Pre-existing diabetes', 'Pre-existing hypertension', 'Pre-existing immunocompromised condition', 'Smoking', 'SARS-CoV-2 PCR', 'SARS-CoV-2 Ab', 'Symptomatic', 'Admitted to hospital', 'Highest level of respiratory support', 'Vasoactive agents required during hospitalization', '28-day death', '28-day outcome', 'Disease classification', 'Organ System', 'Source', 'Days since hospital admission', 'SOFA', 'Technology', 'Method', 'CITE-Seq panel', 'Reference', 'Institute', 'Creation date', 'Annotation', '_index'\n",
       "    var: 'feature_type', 'gene_id', '_index'\n",
       "    obsm: 'X_umap'\n",
       "    layers: 'X_csc'"
      ]
     },
     "execution_count": 10,
     "metadata": {},
     "output_type": "execute_result"
    }
   ],
   "source": [
    "cell_subset = subset[subset.obs['Annotation'][()].isin(['CD4+ T-cell', 'CD8+ T-cell', 'Macrophage', 'Macrophage:Alveolar']), :]\n",
    "cell_subset"
   ]
  },
  {
   "cell_type": "markdown",
   "id": "9f006c15",
   "metadata": {},
   "source": [
    "# We can now plot some known markers with scanpy.  Unfortunately, this new backed functionality does not work with scanpy.  But we have a convenient to_memory function to help us.  First let's observe something - our `X` matrix is CSR but we are interested in many fewer genes than cells.  Thus it would be better to use a pre-computed layer, `X_csc` which allows us quick access.  We are also only interested in plotting cell types for `obs` so let's exclude everything else."
   ]
  },
  {
   "cell_type": "code",
   "execution_count": 11,
   "id": "edd44513",
   "metadata": {
    "scrolled": false
   },
   "outputs": [
    {
     "name": "stdout",
     "output_type": "stream",
     "text": [
      "obsm/X_umap/0.0obsm/X_umap/0.1\n",
      "obsm/X_umap/1.0\n",
      "\n",
      "obsm/X_umap/1.1\n",
      "obsm/X_umap/2.0\n",
      "obsm/X_umap/2.1\n",
      "obsm/X_umap/3.0\n",
      "obsm/X_umap/3.1\n",
      "layers/X_csc/indptr/0\n",
      "layers/X_csc/data/584\n",
      "layers/X_csc/data/199\n",
      "layers/X_csc/data/961\n",
      "layers/X_csc/data/843\n",
      "layers/X_csc/indices/292\n",
      "layers/X_csc/indices/99\n",
      "layers/X_csc/indices/480\n",
      "layers/X_csc/indices/421\n"
     ]
    }
   ],
   "source": [
    "genes=['CD4', 'CD80', 'ACE2', 'CD40']\n",
    "obs_keys_to_exclude = ['obs/' + v for v in cell_subset.obs if v != 'Annotation']\n",
    "var_keys_to_exclude = ['var/' + v for v in cell_subset.var]\n",
    "gene_cell_subset = cell_subset[:, genes].to_memory(exclude=['X'] + obs_keys_to_exclude + var_keys_to_exclude)"
   ]
  },
  {
   "cell_type": "code",
   "execution_count": 12,
   "id": "bea3fe87",
   "metadata": {},
   "outputs": [
    {
     "data": {
      "text/plain": [
       "AnnData object with n_obs × n_vars = 16768 × 4\n",
       "    obs: 'Annotation'\n",
       "    obsm: 'X_umap'\n",
       "    layers: 'X_csc'"
      ]
     },
     "execution_count": 12,
     "metadata": {},
     "output_type": "execute_result"
    }
   ],
   "source": [
    "gene_cell_subset"
   ]
  },
  {
   "cell_type": "code",
   "execution_count": 13,
   "id": "8c0f26c3",
   "metadata": {},
   "outputs": [
    {
     "data": {
      "image/png": "[encoded data removed]",
      "text/plain": [
       "<Figure size 298x250 with 7 Axes>"
      ]
     },
     "metadata": {},
     "output_type": "display_data"
    }
   ],
   "source": [
    "sc.pl.stacked_violin(gene_cell_subset, genes, groupby='Annotation', layer='X_csc')"
   ]
  },
  {
   "cell_type": "markdown",
   "id": "78006009",
   "metadata": {},
   "source": [
    "# Amazing! On a normal internet connection, all of the above steps should take no longer than 30 seconds!  Notice how much data we accessed - only exactly what we needed!  Through smart data access, a clean API, and a few hundred lines of new AnnData code, a whole new access pattern emerges!"
   ]
  },
  {
   "cell_type": "code",
   "execution_count": null,
   "id": "31ce1389",
   "metadata": {},
   "outputs": [],
   "source": []
  }
 ],
 "metadata": {
  "kernelspec": {
   "display_name": "Python 3 (ipykernel)",
   "language": "python",
   "name": "python3"
  },
  "language_info": {
   "codemirror_mode": {
    "name": "ipython",
    "version": 3
   },
   "file_extension": ".py",
   "mimetype": "text/x-python",
   "name": "python",
   "nbconvert_exporter": "python",
   "pygments_lexer": "ipython3",
   "version": "3.10.11"
  }
 },
 "nbformat": 4,
 "nbformat_minor": 5
}
